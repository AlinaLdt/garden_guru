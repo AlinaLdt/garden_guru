{
 "cells": [
  {
   "cell_type": "code",
   "execution_count": 26,
   "metadata": {},
   "outputs": [],
   "source": [
    "import os\n",
    "import requests\n",
    "from PIL import Image, ImageDraw\n",
    "import matplotlib.pyplot as plt\n",
    "import numpy as np\n",
    "import openai"
   ]
  },
  {
   "cell_type": "code",
   "execution_count": 1,
   "metadata": {},
   "outputs": [
    {
     "ename": "NameError",
     "evalue": "name 'os' is not defined",
     "output_type": "error",
     "traceback": [
      "\u001b[0;31m---------------------------------------------------------------------------\u001b[0m",
      "\u001b[0;31mNameError\u001b[0m                                 Traceback (most recent call last)",
      "Cell \u001b[0;32mIn[1], line 2\u001b[0m\n\u001b[1;32m      1\u001b[0m \u001b[38;5;66;03m# Set Roboflow API key\u001b[39;00m\n\u001b[0;32m----> 2\u001b[0m roboflow_api_key \u001b[38;5;241m=\u001b[39m \u001b[43mos\u001b[49m\u001b[38;5;241m.\u001b[39menviron[\u001b[38;5;124m\"\u001b[39m\u001b[38;5;124mROBOFLOW_API_KEY\u001b[39m\u001b[38;5;124m\"\u001b[39m]\n\u001b[1;32m      3\u001b[0m \u001b[38;5;66;03m# Set OpenAI API key\u001b[39;00m\n\u001b[1;32m      4\u001b[0m openai_api_key \u001b[38;5;241m=\u001b[39m os\u001b[38;5;241m.\u001b[39menviron[\u001b[38;5;124m\"\u001b[39m\u001b[38;5;124mOPENAI_API_KEY\u001b[39m\u001b[38;5;124m\"\u001b[39m]\n",
      "\u001b[0;31mNameError\u001b[0m: name 'os' is not defined"
     ]
    }
   ],
   "source": [
    "# Set Roboflow API key\n",
    "roboflow_api_key = os.environ[\"ROBOFLOW_API_KEY\"]\n",
    "# Set OpenAI API key\n",
    "openai_api_key = os.environ[\"OPENAI_API_KEY\"]\n",
    "# Initialize the OpenAI API client\n",
    "openai.api_key = openai_api_key\n",
    "# Roboflow Model URL\n",
    "MODEL_ID = \"houseplants-image-detection/1\"\n",
    "ROBOFLOW_URL = f\"https://detect.roboflow.com/{MODEL_ID}?api_key={roboflow_api_key}\"\n",
    "from openai import OpenAI\n",
    "client = OpenAI()\n",
    "# Function to perform inference on a local image\n",
    "def infer_local_image(image_path):\n",
    "    with open(image_path, \"rb\") as image_file:\n",
    "        response = requests.post(ROBOFLOW_URL, files={\"file\": image_file})\n",
    "    result = response.json()\n",
    "    return result\n",
    "# Function to get care tips using OpenAI GPT-3\n",
    "def get_care_tips(plant_class):\n",
    "    completion = client.chat.completions.create(\n",
    "        model=\"gpt-3.5-turbo-16k\",\n",
    "        messages=[\n",
    "            {\"role\": \"system\", \"content\": \"You are in the role of a plant expert. You are witty and wise.\"},\n",
    "            {\"role\": \"user\", \"content\": f\"Give me useful advice for taking care of this plant: {plant_class}\"}\n",
    "        ]\n",
    "    )\n",
    "    return completion.choices[0].message.content\n",
    "# Function to handle user questions using OpenAI GPT-3\n",
    "def handle_user_question(plant_class, user_question):\n",
    "    completion = client.chat.completions.create(\n",
    "        model=\"gpt-3.5-turbo-16k\",\n",
    "        messages=[\n",
    "            {\"role\": \"system\", \"content\": f\"You are in the role of a plant expert. You are witty and wise. You have given care tips for a {plant_class}.\"},\n",
    "            {\"role\": \"user\", \"content\": f\"{user_question}\"}\n",
    "        ]\n",
    "    )\n",
    "    return completion.choices[0].message.content\n",
    "# Example for local image\n",
    "local_image_path = \"../raw_data/Begonia_rex.jpg\"\n",
    "local_result = infer_local_image(local_image_path)\n",
    "# Get the class of the plant\n",
    "if local_result['predictions']:\n",
    "    plant_class = local_result['predictions'][0]['class']\n",
    "    print(f\"Detected plant class: {plant_class}\")\n",
    "    # Get care tips for the detected plant class\n",
    "    care_tips = get_care_tips(plant_class)\n",
    "    print(f\"Care tips for {plant_class}: {care_tips}\")\n",
    "    # Interactive chat loop\n",
    "    while True:\n",
    "        user_question = input(\"Ask a question about the plant care or type 'exit' to quit: \")\n",
    "        if user_question.lower() == 'exit':\n",
    "            break\n",
    "        answer = handle_user_question(plant_class, user_question)\n",
    "        print(f\"Answer: {answer}\")\n",
    "else:\n",
    "    print(\"No plants detected.\")"
   ]
  }
 ],
 "metadata": {
  "kernelspec": {
   "display_name": "garden_guru",
   "language": "python",
   "name": "python3"
  },
  "language_info": {
   "codemirror_mode": {
    "name": "ipython",
    "version": 3
   },
   "file_extension": ".py",
   "mimetype": "text/x-python",
   "name": "python",
   "nbconvert_exporter": "python",
   "pygments_lexer": "ipython3",
   "version": "3.10.6"
  }
 },
 "nbformat": 4,
 "nbformat_minor": 2
}
